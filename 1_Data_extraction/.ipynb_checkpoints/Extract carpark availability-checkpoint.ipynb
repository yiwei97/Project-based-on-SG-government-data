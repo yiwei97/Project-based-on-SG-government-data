{
 "cells": [
  {
   "cell_type": "code",
   "execution_count": 138,
   "id": "ae27b663",
   "metadata": {},
   "outputs": [],
   "source": [
    "# Read libraries and files\n",
    "import pandas as pd\n",
    "import json\n",
    "from urllib.request import urlopen\n",
    "import os"
   ]
  },
  {
   "cell_type": "code",
   "execution_count": 139,
   "id": "deb169de",
   "metadata": {},
   "outputs": [
    {
     "name": "stdout",
     "output_type": "stream",
     "text": [
      "     total_lots lot_type lots_available carpark_number      update_datetime\n",
      "0           105        C             13           HE12  2023-02-26T18:34:39\n",
      "1           583        C            331            HLM  2023-02-26T18:34:37\n",
      "2           329        C            170            RHM  2023-02-26T18:34:39\n",
      "3            97        C             38           BM29  2023-02-26T18:34:28\n",
      "4            96        C             46            Q81  2023-02-26T18:34:26\n",
      "...         ...      ...            ...            ...                  ...\n",
      "1915        195        C             87           BE3R  2023-02-26T18:33:56\n",
      "1916        249        C            135            B8B  2023-02-26T18:31:04\n",
      "1917        500        C            482            BA6  2023-02-26T18:33:43\n",
      "1918        352        C            282            BA8  2023-02-26T18:34:37\n",
      "1919        508        C            412            BA7  2023-02-26T18:34:37\n",
      "\n",
      "[1920 rows x 5 columns]\n"
     ]
    }
   ],
   "source": [
    "# Real time dataset\n",
    "url = 'https://api.data.gov.sg/v1/transport/carpark-availability'\n",
    "fileobj = urlopen(url)\n",
    "data = json.load(fileobj)[\"items\"][0]\n",
    "timestamp = data.get(\"timestamp\")\n",
    "carpark_data = data.get(\"carpark_data\")\n",
    "def clean_carpark(carpark):\n",
    "    carpark_info = carpark.pop(\"carpark_info\")[0]\n",
    "    carpark_info.update(carpark)\n",
    "    return carpark_info\n",
    "carpark_data_cleaned = map(clean_carpark, carpark_data)\n",
    "carpark_df = pd.DataFrame.from_dict(carpark_data_cleaned)\n",
    "print(carpark_df)\n",
    "    \n",
    "    "
   ]
  },
  {
   "cell_type": "code",
   "execution_count": 140,
   "id": "8f76f8b7",
   "metadata": {},
   "outputs": [
    {
     "name": "stdout",
     "output_type": "stream",
     "text": [
      "     total_lots lot_type lots_available carpark_number      update_datetime  \\\n",
      "0           105        C             13           HE12  2023-02-26T18:34:39   \n",
      "1           583        C            331            HLM  2023-02-26T18:34:37   \n",
      "2           329        C            170            RHM  2023-02-26T18:34:39   \n",
      "3            97        C             38           BM29  2023-02-26T18:34:28   \n",
      "4            96        C             46            Q81  2023-02-26T18:34:26   \n",
      "...         ...      ...            ...            ...                  ...   \n",
      "1915        195        C             87           BE3R  2023-02-26T18:33:56   \n",
      "1916        249        C            135            B8B  2023-02-26T18:31:04   \n",
      "1917        500        C            482            BA6  2023-02-26T18:33:43   \n",
      "1918        352        C            282            BA8  2023-02-26T18:34:37   \n",
      "1919        508        C            412            BA7  2023-02-26T18:34:37   \n",
      "\n",
      "                          address     x_coord     y_coord  \\\n",
      "0          BLK 78/81 REDHILL LANE  26367.5806  30069.2434   \n",
      "1          BLK 533A HONG LIM MSCP  29354.6692  29687.5080   \n",
      "2           BLK 88A REDHILL CLOSE  26359.4531  29876.1692   \n",
      "3     BLK 163 BUKIT MERAH CENTRAL  26194.9184  29563.3295   \n",
      "4            BLK 43 HOLLAND DRIVE  23531.2041  32206.3235   \n",
      "...                           ...         ...         ...   \n",
      "1915        BLK 410A SIN MING AVE  28240.0745  38359.6695   \n",
      "1916    BLK 222 BEDOK NORTH DRIVE  38531.1666  34114.4997   \n",
      "1917       BLK 201 WOODLEIGH LINK  32325.4720  35823.9717   \n",
      "1918                          NaN         NaN         NaN   \n",
      "1919       BLK 206 WOODLEIGH LINK  32317.7226  36003.0183   \n",
      "\n",
      "              car_park_type type_of_parking_system short_term_parking  \\\n",
      "0          SURFACE CAR PARK     ELECTRONIC PARKING          WHOLE DAY   \n",
      "1     MULTI-STOREY CAR PARK     ELECTRONIC PARKING          WHOLE DAY   \n",
      "2     MULTI-STOREY CAR PARK     ELECTRONIC PARKING          WHOLE DAY   \n",
      "3         BASEMENT CAR PARK     ELECTRONIC PARKING          WHOLE DAY   \n",
      "4          SURFACE CAR PARK     ELECTRONIC PARKING          WHOLE DAY   \n",
      "...                     ...                    ...                ...   \n",
      "1915  MULTI-STOREY CAR PARK     ELECTRONIC PARKING          WHOLE DAY   \n",
      "1916      BASEMENT CAR PARK     ELECTRONIC PARKING          WHOLE DAY   \n",
      "1917  MULTI-STOREY CAR PARK     ELECTRONIC PARKING          WHOLE DAY   \n",
      "1918                    NaN                    NaN                NaN   \n",
      "1919  MULTI-STOREY CAR PARK     ELECTRONIC PARKING          WHOLE DAY   \n",
      "\n",
      "                 free_parking night_parking  car_park_decks  gantry_height  \\\n",
      "0     SUN & PH FR 7AM-10.30PM           YES             0.0           4.50   \n",
      "1                          NO           YES            11.0           1.90   \n",
      "2     SUN & PH FR 7AM-10.30PM           YES            10.0           1.90   \n",
      "3                          NO           YES             1.0           2.00   \n",
      "4                          NO           YES             0.0           9.99   \n",
      "...                       ...           ...             ...            ...   \n",
      "1915  SUN & PH FR 7AM-10.30PM           YES             9.0           2.10   \n",
      "1916                       NO           YES             1.0           3.00   \n",
      "1917                       NO           YES             5.0           2.15   \n",
      "1918                      NaN           NaN             NaN            NaN   \n",
      "1919                       NO           YES             4.0           2.15   \n",
      "\n",
      "     car_park_basement  \n",
      "0                    N  \n",
      "1                    N  \n",
      "2                    N  \n",
      "3                    Y  \n",
      "4                    N  \n",
      "...                ...  \n",
      "1915                 N  \n",
      "1916                 Y  \n",
      "1917                 N  \n",
      "1918               NaN  \n",
      "1919                 N  \n",
      "\n",
      "[1920 rows x 16 columns]\n"
     ]
    }
   ],
   "source": [
    "# Static dataset on carpark information\n",
    "carpark_details = pd.read_csv('Input/hdb-carpark-information.csv')\n",
    "carpark_merged = pd.merge(carpark_df, carpark_details, how=\"left\", left_on=\"carpark_number\", right_on = \"car_park_no\").drop('car_park_no', axis=1)\n",
    "print(carpark_merged)"
   ]
  },
  {
   "cell_type": "code",
   "execution_count": 148,
   "id": "01488c76",
   "metadata": {},
   "outputs": [
    {
     "name": "stdout",
     "output_type": "stream",
     "text": [
      "  total_lots lot_type lots_available carpark_number      update_datetime  \\\n",
      "1        583        C            331            HLM  2023-02-26T18:34:37   \n",
      "2        329        C            170            RHM  2023-02-26T18:34:39   \n",
      "3         97        C             38           BM29  2023-02-26T18:34:28   \n",
      "4         96        C             46            Q81  2023-02-26T18:34:26   \n",
      "\n",
      "                       address     x_coord     y_coord          car_park_type  \\\n",
      "1       BLK 533A HONG LIM MSCP  29354.6692  29687.5080  MULTI-STOREY CAR PARK   \n",
      "2        BLK 88A REDHILL CLOSE  26359.4531  29876.1692  MULTI-STOREY CAR PARK   \n",
      "3  BLK 163 BUKIT MERAH CENTRAL  26194.9184  29563.3295      BASEMENT CAR PARK   \n",
      "4         BLK 43 HOLLAND DRIVE  23531.2041  32206.3235       SURFACE CAR PARK   \n",
      "\n",
      "  type_of_parking_system short_term_parking             free_parking  \\\n",
      "1     ELECTRONIC PARKING          WHOLE DAY                       NO   \n",
      "2     ELECTRONIC PARKING          WHOLE DAY  SUN & PH FR 7AM-10.30PM   \n",
      "3     ELECTRONIC PARKING          WHOLE DAY                       NO   \n",
      "4     ELECTRONIC PARKING          WHOLE DAY                       NO   \n",
      "\n",
      "  night_parking  car_park_decks  gantry_height car_park_basement  \n",
      "1           YES            11.0           1.90                 N  \n",
      "2           YES            10.0           1.90                 N  \n",
      "3           YES             1.0           2.00                 Y  \n",
      "4           YES             0.0           9.99                 N  \n",
      "  total_lots lot_type lots_available carpark_number      update_datetime  \\\n",
      "1        583        C            331            HLM  2023-02-26T18:34:37   \n",
      "2        329        C            170            RHM  2023-02-26T18:34:39   \n",
      "3         97        C             38           BM29  2023-02-26T18:34:28   \n",
      "4         96        C             46            Q81  2023-02-26T18:34:26   \n",
      "\n",
      "                       address     x_coord     y_coord          car_park_type  \\\n",
      "1       BLK 533A HONG LIM MSCP  29354.6692  29687.5080  MULTI-STOREY CAR PARK   \n",
      "2        BLK 88A REDHILL CLOSE  26359.4531  29876.1692  MULTI-STOREY CAR PARK   \n",
      "3  BLK 163 BUKIT MERAH CENTRAL  26194.9184  29563.3295      BASEMENT CAR PARK   \n",
      "4         BLK 43 HOLLAND DRIVE  23531.2041  32206.3235       SURFACE CAR PARK   \n",
      "\n",
      "  type_of_parking_system short_term_parking             free_parking  \\\n",
      "1     ELECTRONIC PARKING          WHOLE DAY                       NO   \n",
      "2     ELECTRONIC PARKING          WHOLE DAY  SUN & PH FR 7AM-10.30PM   \n",
      "3     ELECTRONIC PARKING          WHOLE DAY                       NO   \n",
      "4     ELECTRONIC PARKING          WHOLE DAY                       NO   \n",
      "\n",
      "  night_parking  car_park_decks  gantry_height car_park_basement  latitude  \\\n",
      "1           YES            11.0           1.90                 N  1.284758   \n",
      "2           YES            10.0           1.90                 N  1.286464   \n",
      "3           YES             1.0           2.00                 Y  1.283635   \n",
      "4           YES             0.0           9.99                 N  1.307537   \n",
      "\n",
      "    longitude  \n",
      "1  103.845491  \n",
      "2  103.818578  \n",
      "3  103.817099  \n",
      "4  103.793164  \n"
     ]
    }
   ],
   "source": [
    "# Obtaining latitude and longitude from oneAPI\n",
    "def convert(x, y, choice):\n",
    "    url = 'https://developers.onemap.sg/commonapi/convert/3414to4326?X=' + str(x) + '%20&' + 'Y=' + str(y)\n",
    "    fileobj = urlopen(url)\n",
    "    coordinates = json.load(fileobj)\n",
    "    return coordinates.get(choice)\n",
    "latitude = ['latitude']*len(carpark_merged)\n",
    "longitude = ['longitude']*len(carpark_merged)\n",
    "carpark_merged['latitude'] = list(map(convert, carpark_merged['x_coord'], carpark_merged['y_coord'], latitude))\n",
    "carpark_merged['longitude'] = list(map(convert, carpark_merged['x_coord'], carpark_merged['y_coord'], longitude))\n"
   ]
  },
  {
   "cell_type": "code",
   "execution_count": 146,
   "id": "43a1e0c3",
   "metadata": {},
   "outputs": [
    {
     "name": "stdout",
     "output_type": "stream",
     "text": [
      "0       26367.5806\n",
      "1       29354.6692\n",
      "2       26359.4531\n",
      "3       26194.9184\n",
      "4       23531.2041\n",
      "           ...    \n",
      "1915    28240.0745\n",
      "1916    38531.1666\n",
      "1917    32325.4720\n",
      "1918           NaN\n",
      "1919    32317.7226\n",
      "Name: x_coord, Length: 1920, dtype: float64\n"
     ]
    }
   ],
   "source": []
  },
  {
   "cell_type": "code",
   "execution_count": 124,
   "id": "e588f049",
   "metadata": {},
   "outputs": [],
   "source": [
    "# Save combined dataset\n",
    "outname = 'carpark_combined.csv'\n",
    "outdir = './Output'\n",
    "if not os.path.exists(outdir):\n",
    "    os.mkdir(outdir)\n",
    "\n",
    "fullname = os.path.join(outdir, outname)    \n",
    "\n",
    "carpark_merged.to_csv(fullname, index=False)"
   ]
  }
 ],
 "metadata": {
  "kernelspec": {
   "display_name": "Python 3 (ipykernel)",
   "language": "python",
   "name": "python3"
  },
  "language_info": {
   "codemirror_mode": {
    "name": "ipython",
    "version": 3
   },
   "file_extension": ".py",
   "mimetype": "text/x-python",
   "name": "python",
   "nbconvert_exporter": "python",
   "pygments_lexer": "ipython3",
   "version": "3.9.7"
  }
 },
 "nbformat": 4,
 "nbformat_minor": 5
}
